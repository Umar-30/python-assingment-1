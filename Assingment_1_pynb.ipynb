{
  "nbformat": 4,
  "nbformat_minor": 0,
  "metadata": {
    "colab": {
      "provenance": [],
      "authorship_tag": "ABX9TyOYVdvjbV5Yn/3yA3BYl/Ut",
      "include_colab_link": true
    },
    "kernelspec": {
      "name": "python3",
      "display_name": "Python 3"
    },
    "language_info": {
      "name": "python"
    }
  },
  "cells": [
    {
      "cell_type": "markdown",
      "metadata": {
        "id": "view-in-github",
        "colab_type": "text"
      },
      "source": [
        "<a href=\"https://colab.research.google.com/github/Umar-30/python-assingment-1/blob/main/Assingment_1_pynb.ipynb\" target=\"_parent\"><img src=\"https://colab.research.google.com/assets/colab-badge.svg\" alt=\"Open In Colab\"/></a>"
      ]
    },
    {
      "cell_type": "markdown",
      "source": [
        "Part 1: Understanding String Literals\n"
      ],
      "metadata": {
        "id": "XGQRjDghLp6k"
      }
    },
    {
      "cell_type": "code",
      "source": [
        "singleQuato = 'Hello World'\n",
        "# Used for short strings.\n",
        "# Example: 'Hello'\n",
        "doubleQuato = \"It's a nice day\"\n",
        "# we use double quato when the string contains a single quote inside it.\n",
        "# Example: \"It's a nice day\"\n",
        "tripleQuato = '''This is my first work for python.\n",
        "and  prepare first assingment of Thursday morning class.'''\n",
        "# Used for multi-line strings.\n",
        "# Also used for comments.\n",
        "# Example:\"\"\"This is\n",
        "# a multi-line\n",
        "# string.\"\"\"\n",
        "print(singleQuato)\n",
        "print(doubleQuato)\n",
        "print(tripleQuato)\n",
        "\n",
        "\n"
      ],
      "metadata": {
        "colab": {
          "base_uri": "https://localhost:8080/"
        },
        "id": "iuXacls0f6u-",
        "outputId": "360f9255-e496-4949-aecb-cd16a3c632ec"
      },
      "execution_count": null,
      "outputs": [
        {
          "output_type": "stream",
          "name": "stdout",
          "text": [
            "Hello World\n",
            "It's a nice day\n",
            "This is my first work for python.\n",
            "and  prepare first assingment of Thursday morning class  \n"
          ]
        }
      ]
    },
    {
      "cell_type": "code",
      "source": [
        "# single Quato\n",
        "myPetName ='Kitty'\n",
        "\n",
        "# double Quato\n",
        "favouriteQuato = \"Hazrat Ali said, “When the world pushes you to your knees, you're in the perfect position to pray” \"\n",
        "\n",
        "# triple Quato\n",
        "favouriteHobby = '''my favourite hobby is coding.\n",
        "I enjoy solving problems and building creative solutions.\n",
        "It challenges my mind and helps me learn every day. '''\n",
        "print(myPetName)\n",
        "print(favouriteQuato)\n",
        "print(favouriteHobby)"
      ],
      "metadata": {
        "colab": {
          "base_uri": "https://localhost:8080/"
        },
        "id": "LxP6sB10texr",
        "outputId": "01ebc2e6-3d84-43d6-ba69-260a13769b84"
      },
      "execution_count": null,
      "outputs": [
        {
          "output_type": "stream",
          "name": "stdout",
          "text": [
            "Kitty\n",
            "Hazrat Ali said, “When the world pushes you to your knees, you're in the perfect position to pray” \n",
            "my favourite hobby is coding.\n",
            "I enjoy solving problems and building creative solutions.\n",
            "It challenges my mind and helps me learn every day. \n"
          ]
        }
      ]
    },
    {
      "cell_type": "markdown",
      "source": [
        "Part 2: String Methods Practice\n",
        "1. Create a variable full_name with your full name (first and last name). Then write code\n",
        "to:\n",
        "o Print your name in all uppercase letters\n",
        "o Print your name in all lowercase letters\n",
        "o Print your name with the first letter of each name capitalized"
      ],
      "metadata": {
        "id": "O7ejuK-WMQCf"
      }
    },
    {
      "cell_type": "code",
      "source": [
        "full_Name = 'shagufta zakir'\n",
        "\n",
        "# Print your name in all uppercase letters\n",
        "print(full_Name.upper())\n",
        "\n",
        "# Print your name in all lowercase letters\n",
        "print(full_Name.lower())\n",
        "\n",
        "# Print your name with the first letter of each name capitalized\n",
        "print(full_Name.title())"
      ],
      "metadata": {
        "colab": {
          "base_uri": "https://localhost:8080/"
        },
        "id": "lJ3o5g3jzZN_",
        "outputId": "e1d3dc5c-e442-4bd4-db24-dd410ff51714"
      },
      "execution_count": null,
      "outputs": [
        {
          "output_type": "stream",
          "name": "stdout",
          "text": [
            "SHAGUFTA ZAKIR\n",
            "shagufta zakir\n",
            "Shagufta Zakir\n"
          ]
        }
      ]
    },
    {
      "cell_type": "markdown",
      "source": [
        "2. Create a variable messy_text = \" Python programming is fun! \" Then write code\n",
        "to:\n",
        "o Remove all the extra spaces at the beginning and end\n",
        "o Replace \"fun\" with \"amazing\"\n",
        "o Count how many times the letter 'i' appears"
      ],
      "metadata": {
        "id": "nKhWKNEZMpT9"
      }
    },
    {
      "cell_type": "code",
      "source": [
        "messy_text =\"  Python programming is fun!  \"\n",
        "\n",
        "# Remove all the extra spaces at the beginning and end\n",
        "print(messy_text.strip())\n",
        "\n",
        "#  Replace \"fun\" with \"amazing\"\n",
        "print(messy_text.replace(\"fun\",\"amazing\"))\n",
        "\n",
        "# Count how many times the letter 'i' appears\n",
        "print(\"count of i:\",messy_text.count(\"i\"))"
      ],
      "metadata": {
        "colab": {
          "base_uri": "https://localhost:8080/"
        },
        "id": "iGkt70JB0tK0",
        "outputId": "3cf7e794-3902-444a-c69c-8c00240d8ad2"
      },
      "execution_count": null,
      "outputs": [
        {
          "output_type": "stream",
          "name": "stdout",
          "text": [
            "Python programming is fun!\n",
            "  Python programming is amazing!  \n",
            "count of i: 2\n"
          ]
        }
      ]
    },
    {
      "cell_type": "markdown",
      "source": [
        "3. Create a variable sentence = \"The quick brown fox jumps over the lazy dog\"\n",
        "Then write code to:\n",
        "o Split this sentence into a list of words\n",
        "o Join the words back together with dashes between them\n",
        "o Check if the sentence starts with \"The\"\n",
        "o Find the position of the word \"fox\"\n"
      ],
      "metadata": {
        "id": "Y8vAj8nfPcv2"
      }
    },
    {
      "cell_type": "code",
      "source": [
        "sentence = \"The quick brown fox jumps over the lazy dog.\"\n",
        "\n",
        "# Split this sentence into a list of words\n",
        "print(sentence.split())\n",
        "\n",
        "# Join the words back together with dashes between them\n",
        "print(sentence.replace(\" \", \"-\"))\n",
        "\n",
        "# Check if the sentence starts with \"The\"\n",
        "print(sentence.startswith(\"The\"))\n",
        "\n",
        "# Find the position of the word \"fox\"\n",
        "print(sentence.find(\"fox\"))"
      ],
      "metadata": {
        "colab": {
          "base_uri": "https://localhost:8080/"
        },
        "id": "4cTOeGZr3Dnh",
        "outputId": "7115a796-da52-42d4-8235-a481db5b67d4"
      },
      "execution_count": null,
      "outputs": [
        {
          "output_type": "stream",
          "name": "stdout",
          "text": [
            "['The', 'quick', 'brown', 'fox', 'jumps', 'over', 'the', 'lazy', 'dog.']\n",
            "The-quick-brown-fox-jumps-over-the-lazy-dog.\n",
            "True\n",
            "16\n"
          ]
        }
      ]
    },
    {
      "cell_type": "markdown",
      "source": [
        "1. Create variables for:\n",
        "o Your name\n",
        "o Your age\n",
        "o Your favorite programming language\n",
        "Then use f-strings to create these sentences:\n",
        "o \"My name is {your_name} and I am {your_age} years old.\"\n",
        "o \"I enjoy programming in {language}, it's my favorite!\"\n",
        "o Create a math expression inside an f-string: \"In 5 years, I will be {age + 5} years\n",
        "old.\""
      ],
      "metadata": {
        "id": "FXVEVzpAPoJI"
      }
    },
    {
      "cell_type": "code",
      "source": [
        "# Create variables\n",
        "firstName = \"Shagufta Zakir\"\n",
        "age = 27\n",
        "favprogramminglanguage = \"python\"\n",
        "\n",
        "# use f-strings method to create these sentences:\n",
        "print(f'''My name is {firstName} and I'm {age} years old.\n",
        "I enjoy programming in {favprogramminglanguage} , it's my favourite!. ''')\n",
        "\n",
        "# Create a math expression inside an f-string: \"In 5 years, I will be {age + 5} years old.\"\n",
        "print(f\"In 5 years, I will be {age + 5} years old.\")\n"
      ],
      "metadata": {
        "colab": {
          "base_uri": "https://localhost:8080/"
        },
        "id": "SsOFnQ-u7AA9",
        "outputId": "f77634f2-5d80-4e8c-e82c-eb75bed81c6f"
      },
      "execution_count": null,
      "outputs": [
        {
          "output_type": "stream",
          "name": "stdout",
          "text": [
            "My name is Shagufta Zakir and I'm 27 years old.\n",
            "I enjoy programming in python , it's my favourite!. \n",
            "In 5 years, I will be 32 years old.\n"
          ]
        }
      ]
    },
    {
      "cell_type": "markdown",
      "source": [
        "Part 4: Combining String Methods with F-Strings\n",
        "Create a program that:\n",
        "1. Asks for user input about their first name, last name, and birth year\n",
        "2. Uses string methods to properly capitalize their name\n",
        "3. Uses f-strings to create a profile message: \"Profile: {First Last}, Age: {calculated age},\n",
        "Username: {first initial + last name + birth year}"
      ],
      "metadata": {
        "id": "vZtQjZu8Q9du"
      }
    },
    {
      "cell_type": "code",
      "source": [
        "from datetime import datetime\n",
        "\n",
        "# Step 1: Get user input\n",
        "first_name = input(\"Enter your first name: \")\n",
        "last_name = input(\"Enter your last name: \")\n",
        "birth_year = input(\"Enter your birth year: \")\n",
        "\n",
        "# Step 2: Format name properly\n",
        "first_name = first_name.capitalize()\n",
        "last_name = last_name.capitalize()\n",
        "\n",
        "# Step 3: Calculate age\n",
        "current_year = datetime.now().year\n",
        "age = current_year - int(birth_year)\n",
        "\n",
        "# Step 4: Generate username\n",
        "username = f\"{first_name.lower()}{last_name.lower()}{birth_year}\"\n",
        "\n",
        "# Step 5: Display profile message\n",
        "profile_message = f\"Profile: {first_name} {last_name}, Age: {age}, Username: {username}\"\n",
        "print(profile_message)\n"
      ],
      "metadata": {
        "colab": {
          "base_uri": "https://localhost:8080/"
        },
        "id": "FV1AOHbSWUC7",
        "outputId": "e6a75a64-afd4-4ca0-d3c0-2d69af4aefa6"
      },
      "execution_count": null,
      "outputs": [
        {
          "output_type": "stream",
          "name": "stdout",
          "text": [
            "Enter your first name: saba\n",
            "Enter your last name: naz\n",
            "Enter your birth year: 2002\n",
            "Profile: Saba Naz, Age: 23, Username: sabanaz2002\n"
          ]
        }
      ]
    }
  ]
}